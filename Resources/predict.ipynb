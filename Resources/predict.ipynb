{
 "cells": [
  {
   "cell_type": "code",
   "execution_count": 7,
   "metadata": {},
   "outputs": [],
   "source": [
    "import joblib\n",
    "from sklearn.preprocessing import StandardScaler\n"
   ]
  },
  {
   "cell_type": "code",
   "execution_count": 13,
   "metadata": {},
   "outputs": [
    {
     "ename": "NameError",
     "evalue": "name 'Path' is not defined",
     "output_type": "error",
     "traceback": [
      "\u001b[0;31m---------------------------------------------------------------------------\u001b[0m",
      "\u001b[0;31mNameError\u001b[0m                                 Traceback (most recent call last)",
      "\u001b[1;32m/Users/aayushidaliparthi/Desktop/Project_4-Group_5-Heart_Health/Resources/predict.ipynb Cell 2\u001b[0m line \u001b[0;36m2\n\u001b[1;32m      <a href='vscode-notebook-cell:/Users/aayushidaliparthi/Desktop/Project_4-Group_5-Heart_Health/Resources/predict.ipynb#W4sZmlsZQ%3D%3D?line=0'>1</a>\u001b[0m \u001b[39m# Reading in the data\u001b[39;00m\n\u001b[0;32m----> <a href='vscode-notebook-cell:/Users/aayushidaliparthi/Desktop/Project_4-Group_5-Heart_Health/Resources/predict.ipynb#W4sZmlsZQ%3D%3D?line=1'>2</a>\u001b[0m file_path \u001b[39m=\u001b[39m Path(\u001b[39m'\u001b[39m\u001b[39m/Users/aayushidaliparthi/Desktop/Project_4-Group_5-Heart_Health/Resources/cleaned_data.csv\u001b[39m\u001b[39m'\u001b[39m)\n\u001b[1;32m      <a href='vscode-notebook-cell:/Users/aayushidaliparthi/Desktop/Project_4-Group_5-Heart_Health/Resources/predict.ipynb#W4sZmlsZQ%3D%3D?line=2'>3</a>\u001b[0m df \u001b[39m=\u001b[39m pd\u001b[39m.\u001b[39mread_csv(file_path)\n",
      "\u001b[0;31mNameError\u001b[0m: name 'Path' is not defined"
     ]
    }
   ],
   "source": [
    "# Reading in the data\n",
    "file_path = pd('/Users/aayushidaliparthi/Desktop/Project_4-Group_5-Heart_Health/Resources/cleaned_data.csv')\n",
    "df = pd.read_csv(file_path)"
   ]
  },
  {
   "cell_type": "code",
   "execution_count": 9,
   "metadata": {},
   "outputs": [],
   "source": [
    "# Load the trained model\n",
    "model = joblib.load('/Users/aayushidaliparthi/Desktop/Project_4-Group_5-Heart_Health/rf_model.pkl')"
   ]
  },
  {
   "cell_type": "code",
   "execution_count": 10,
   "metadata": {},
   "outputs": [
    {
     "ename": "NameError",
     "evalue": "name 'X_train' is not defined",
     "output_type": "error",
     "traceback": [
      "\u001b[0;31m---------------------------------------------------------------------------\u001b[0m",
      "\u001b[0;31mNameError\u001b[0m                                 Traceback (most recent call last)",
      "\u001b[1;32m/Users/aayushidaliparthi/Desktop/Project_4-Group_5-Heart_Health/Resources/predict.ipynb Cell 3\u001b[0m line \u001b[0;36m3\n\u001b[1;32m      <a href='vscode-notebook-cell:/Users/aayushidaliparthi/Desktop/Project_4-Group_5-Heart_Health/Resources/predict.ipynb#W3sZmlsZQ%3D%3D?line=0'>1</a>\u001b[0m \u001b[39m# Fit the scaler to the training data\u001b[39;00m\n\u001b[1;32m      <a href='vscode-notebook-cell:/Users/aayushidaliparthi/Desktop/Project_4-Group_5-Heart_Health/Resources/predict.ipynb#W3sZmlsZQ%3D%3D?line=1'>2</a>\u001b[0m scaler \u001b[39m=\u001b[39m StandardScaler()\n\u001b[0;32m----> <a href='vscode-notebook-cell:/Users/aayushidaliparthi/Desktop/Project_4-Group_5-Heart_Health/Resources/predict.ipynb#W3sZmlsZQ%3D%3D?line=2'>3</a>\u001b[0m scaler\u001b[39m.\u001b[39mfit(X_train)\n",
      "\u001b[0;31mNameError\u001b[0m: name 'X_train' is not defined"
     ]
    }
   ],
   "source": [
    "# Separating target variables and features\n",
    "y = df['CHDRisk']\n",
    "X = df.drop(columns='CHDRisk')"
   ]
  }
 ],
 "metadata": {
  "kernelspec": {
   "display_name": "base",
   "language": "python",
   "name": "python3"
  },
  "language_info": {
   "codemirror_mode": {
    "name": "ipython",
    "version": 3
   },
   "file_extension": ".py",
   "mimetype": "text/x-python",
   "name": "python",
   "nbconvert_exporter": "python",
   "pygments_lexer": "ipython3",
   "version": "3.11.8"
  }
 },
 "nbformat": 4,
 "nbformat_minor": 2
}
