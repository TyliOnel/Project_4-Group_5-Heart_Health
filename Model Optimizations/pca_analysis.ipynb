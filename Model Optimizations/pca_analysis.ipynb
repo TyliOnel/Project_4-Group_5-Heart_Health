{
 "cells": [
  {
   "cell_type": "code",
   "execution_count": 6,
   "metadata": {},
   "outputs": [],
   "source": [
    "import pandas as pd\n",
    "from sklearn.preprocessing import StandardScaler\n",
    "from sklearn.decomposition import PCA\n",
    "from imblearn.over_sampling import SMOTE\n",
    "import numpy as np"
   ]
  },
  {
   "cell_type": "code",
   "execution_count": 9,
   "metadata": {},
   "outputs": [
    {
     "data": {
      "text/html": [
       "<div>\n",
       "<style scoped>\n",
       "    .dataframe tbody tr th:only-of-type {\n",
       "        vertical-align: middle;\n",
       "    }\n",
       "\n",
       "    .dataframe tbody tr th {\n",
       "        vertical-align: top;\n",
       "    }\n",
       "\n",
       "    .dataframe thead th {\n",
       "        text-align: right;\n",
       "    }\n",
       "</style>\n",
       "<table border=\"1\" class=\"dataframe\">\n",
       "  <thead>\n",
       "    <tr style=\"text-align: right;\">\n",
       "      <th></th>\n",
       "      <th>sex</th>\n",
       "      <th>age</th>\n",
       "      <th>education</th>\n",
       "      <th>smokingStatus</th>\n",
       "      <th>cigsPerDay</th>\n",
       "      <th>BPMeds</th>\n",
       "      <th>prevalentStroke</th>\n",
       "      <th>prevalentHyp</th>\n",
       "      <th>diabetes</th>\n",
       "      <th>totChol</th>\n",
       "      <th>BMI</th>\n",
       "      <th>heartRate</th>\n",
       "      <th>glucose</th>\n",
       "      <th>CHDRisk</th>\n",
       "      <th>MAP</th>\n",
       "    </tr>\n",
       "  </thead>\n",
       "  <tbody>\n",
       "    <tr>\n",
       "      <th>0</th>\n",
       "      <td>1.0</td>\n",
       "      <td>39</td>\n",
       "      <td>4</td>\n",
       "      <td>0.0</td>\n",
       "      <td>0</td>\n",
       "      <td>0</td>\n",
       "      <td>0</td>\n",
       "      <td>0</td>\n",
       "      <td>0</td>\n",
       "      <td>195</td>\n",
       "      <td>26.97</td>\n",
       "      <td>80</td>\n",
       "      <td>77</td>\n",
       "      <td>0</td>\n",
       "      <td>82.000000</td>\n",
       "    </tr>\n",
       "    <tr>\n",
       "      <th>1</th>\n",
       "      <td>0.0</td>\n",
       "      <td>46</td>\n",
       "      <td>2</td>\n",
       "      <td>0.0</td>\n",
       "      <td>0</td>\n",
       "      <td>0</td>\n",
       "      <td>0</td>\n",
       "      <td>0</td>\n",
       "      <td>0</td>\n",
       "      <td>250</td>\n",
       "      <td>28.73</td>\n",
       "      <td>95</td>\n",
       "      <td>76</td>\n",
       "      <td>0</td>\n",
       "      <td>94.333333</td>\n",
       "    </tr>\n",
       "    <tr>\n",
       "      <th>2</th>\n",
       "      <td>1.0</td>\n",
       "      <td>48</td>\n",
       "      <td>1</td>\n",
       "      <td>1.0</td>\n",
       "      <td>20</td>\n",
       "      <td>0</td>\n",
       "      <td>0</td>\n",
       "      <td>0</td>\n",
       "      <td>0</td>\n",
       "      <td>245</td>\n",
       "      <td>25.34</td>\n",
       "      <td>75</td>\n",
       "      <td>70</td>\n",
       "      <td>0</td>\n",
       "      <td>95.833333</td>\n",
       "    </tr>\n",
       "    <tr>\n",
       "      <th>3</th>\n",
       "      <td>0.0</td>\n",
       "      <td>61</td>\n",
       "      <td>3</td>\n",
       "      <td>1.0</td>\n",
       "      <td>30</td>\n",
       "      <td>0</td>\n",
       "      <td>0</td>\n",
       "      <td>1</td>\n",
       "      <td>0</td>\n",
       "      <td>225</td>\n",
       "      <td>28.58</td>\n",
       "      <td>65</td>\n",
       "      <td>103</td>\n",
       "      <td>1</td>\n",
       "      <td>113.333333</td>\n",
       "    </tr>\n",
       "    <tr>\n",
       "      <th>4</th>\n",
       "      <td>0.0</td>\n",
       "      <td>46</td>\n",
       "      <td>3</td>\n",
       "      <td>1.0</td>\n",
       "      <td>23</td>\n",
       "      <td>0</td>\n",
       "      <td>0</td>\n",
       "      <td>0</td>\n",
       "      <td>0</td>\n",
       "      <td>285</td>\n",
       "      <td>23.10</td>\n",
       "      <td>85</td>\n",
       "      <td>85</td>\n",
       "      <td>0</td>\n",
       "      <td>99.333333</td>\n",
       "    </tr>\n",
       "  </tbody>\n",
       "</table>\n",
       "</div>"
      ],
      "text/plain": [
       "   sex  age  education  smokingStatus  cigsPerDay  BPMeds  prevalentStroke  \\\n",
       "0  1.0   39          4            0.0           0       0                0   \n",
       "1  0.0   46          2            0.0           0       0                0   \n",
       "2  1.0   48          1            1.0          20       0                0   \n",
       "3  0.0   61          3            1.0          30       0                0   \n",
       "4  0.0   46          3            1.0          23       0                0   \n",
       "\n",
       "   prevalentHyp  diabetes  totChol    BMI  heartRate  glucose  CHDRisk  \\\n",
       "0             0         0      195  26.97         80       77        0   \n",
       "1             0         0      250  28.73         95       76        0   \n",
       "2             0         0      245  25.34         75       70        0   \n",
       "3             1         0      225  28.58         65      103        1   \n",
       "4             0         0      285  23.10         85       85        0   \n",
       "\n",
       "          MAP  \n",
       "0   82.000000  \n",
       "1   94.333333  \n",
       "2   95.833333  \n",
       "3  113.333333  \n",
       "4   99.333333  "
      ]
     },
     "execution_count": 9,
     "metadata": {},
     "output_type": "execute_result"
    }
   ],
   "source": [
    "df = pd.read_csv('Resources/cleaned_data_map.csv')\n",
    "df.head()"
   ]
  },
  {
   "cell_type": "code",
   "execution_count": 10,
   "metadata": {},
   "outputs": [],
   "source": [
    "X = df.drop('CHDRisk', axis=1)\n",
    "y = df['CHDRisk']"
   ]
  },
  {
   "cell_type": "code",
   "execution_count": 11,
   "metadata": {},
   "outputs": [],
   "source": [
    "smote = SMOTE(random_state=1)\n",
    "X_resampled, y_resampled = smote.fit_resample(df.drop('CHDRisk', axis=1), df['CHDRisk'])\n",
    "\n",
    "y = y_resampled\n",
    "X = X_resampled"
   ]
  },
  {
   "cell_type": "code",
   "execution_count": 12,
   "metadata": {},
   "outputs": [],
   "source": [
    "scaler = StandardScaler()\n",
    "X_scaled = scaler.fit_transform(X_resampled)"
   ]
  },
  {
   "cell_type": "code",
   "execution_count": 13,
   "metadata": {},
   "outputs": [],
   "source": [
    "pca = PCA()\n",
    "X_pca = pca.fit_transform(X_scaled)"
   ]
  },
  {
   "cell_type": "code",
   "execution_count": 14,
   "metadata": {},
   "outputs": [],
   "source": [
    "explained_variance = pca.explained_variance_ratio_\n",
    "cumulative_variance = explained_variance.cumsum()"
   ]
  },
  {
   "cell_type": "code",
   "execution_count": 15,
   "metadata": {},
   "outputs": [
    {
     "name": "stdout",
     "output_type": "stream",
     "text": [
      "[0.19387157 0.13073444 0.11464326 0.07919824 0.07769315 0.07167895\n",
      " 0.07002064 0.06275315 0.0568835  0.04873343 0.04017019 0.0217694\n",
      " 0.01817763 0.01367244]\n"
     ]
    }
   ],
   "source": [
    "print(pca.explained_variance_ratio_)"
   ]
  },
  {
   "cell_type": "code",
   "execution_count": 16,
   "metadata": {},
   "outputs": [],
   "source": [
    "n_components = np.argmax(cumulative_variance >= 0.95) + 1\n",
    "pca = PCA(n_components=n_components)\n",
    "X_pca = pca.fit_transform(X_scaled)"
   ]
  },
  {
   "cell_type": "code",
   "execution_count": 17,
   "metadata": {},
   "outputs": [
    {
     "name": "stdout",
     "output_type": "stream",
     "text": [
      "Loadings:\n",
      "                      PC1       PC2       PC3       PC4       PC5       PC6  \\\n",
      "sex             -0.165219  0.332304 -0.134646 -0.393064  0.351859 -0.248874   \n",
      "age              0.349271 -0.005744 -0.096727 -0.280458  0.018780  0.201786   \n",
      "education       -0.112698 -0.070570  0.064496  0.526677  0.154118 -0.647524   \n",
      "smokingStatus   -0.355215  0.473181 -0.168768  0.091698 -0.055948  0.126440   \n",
      "cigsPerDay      -0.334553  0.515920 -0.204083  0.031534 -0.010413  0.068057   \n",
      "BPMeds           0.182828  0.077604 -0.079378  0.448972  0.382695  0.118965   \n",
      "prevalentStroke  0.055643 -0.002870 -0.037201  0.250564  0.558424  0.534803   \n",
      "prevalentHyp     0.408012  0.163553 -0.314070  0.093560  0.055910 -0.202433   \n",
      "diabetes         0.191840  0.347844  0.582208 -0.008549  0.047948 -0.027770   \n",
      "totChol          0.194141  0.077202 -0.072617  0.160022 -0.272615  0.180724   \n",
      "BMI              0.292388  0.134092 -0.153412 -0.235601  0.035202 -0.164839   \n",
      "heartRate        0.100930  0.222117 -0.079218  0.354185 -0.555654  0.147666   \n",
      "glucose          0.216936  0.350509  0.566136 -0.007677  0.025280 -0.022169   \n",
      "MAP              0.423887  0.211136 -0.311990  0.015733  0.013604 -0.182734   \n",
      "\n",
      "                      PC7       PC8       PC9      PC10      PC11      PC12  \n",
      "sex              0.096554  0.157320 -0.032948  0.552136 -0.385972 -0.042154  \n",
      "age              0.371672 -0.121014 -0.352272  0.329928  0.601976 -0.004159  \n",
      "education        0.222678  0.279860 -0.135052  0.103100  0.315499  0.034060  \n",
      "smokingStatus    0.072733 -0.097838 -0.021197 -0.244133  0.227831 -0.015029  \n",
      "cigsPerDay       0.079787 -0.046678 -0.005272 -0.124772  0.180920  0.013042  \n",
      "BPMeds           0.053301 -0.589231  0.402533  0.280363 -0.030152  0.021706  \n",
      "prevalentStroke -0.148543  0.531306 -0.165814 -0.052881  0.012307  0.009119  \n",
      "prevalentHyp    -0.096761 -0.093736 -0.300268 -0.254694 -0.170614 -0.662209  \n",
      "diabetes        -0.015232 -0.014440 -0.030345 -0.072239 -0.011102 -0.136471  \n",
      "totChol          0.744028  0.298325  0.268825 -0.059217 -0.311605 -0.054078  \n",
      "BMI             -0.230284  0.334617  0.679688 -0.052482  0.386742 -0.092713  \n",
      "heartRate       -0.378403  0.175918 -0.085396  0.543142 -0.016376 -0.026736  \n",
      "glucose          0.005313  0.000931 -0.042752 -0.037435 -0.006751  0.120797  \n",
      "MAP             -0.083488 -0.012041 -0.179250 -0.215270 -0.164919  0.715628  \n",
      "\n",
      "Explained Variance:\n",
      "    Explained Variance  Cumulative Variance\n",
      "0             0.193872             0.193872\n",
      "1             0.130734             0.324606\n",
      "2             0.114643             0.439249\n",
      "3             0.079198             0.518448\n",
      "4             0.077693             0.596141\n",
      "5             0.071679             0.667820\n",
      "6             0.070021             0.737840\n",
      "7             0.062753             0.800593\n",
      "8             0.056883             0.857477\n",
      "9             0.048733             0.906210\n",
      "10            0.040170             0.946381\n",
      "11            0.021769             0.968150\n",
      "12            0.018178             0.986328\n",
      "13            0.013672             1.000000\n"
     ]
    }
   ],
   "source": [
    "# Loadings (principal component coefficients)\n",
    "loadings = pd.DataFrame(pca.components_.T, index=X.columns, columns=[f'PC{i+1}' for i in range(n_components)])\n",
    "\n",
    "# Explained variance\n",
    "explained_variance = pd.DataFrame({'Explained Variance': explained_variance, 'Cumulative Variance': cumulative_variance})\n",
    "\n",
    "# Print the loadings and explained variance\n",
    "print(\"Loadings:\")\n",
    "print(loadings)\n",
    "print(\"\\nExplained Variance:\")\n",
    "print(explained_variance)"
   ]
  },
  {
   "cell_type": "markdown",
   "metadata": {},
   "source": [
    "## Features with Lowest Contributions\n",
    "Based on the absolute loadings across all principal components, the features with consistently low contributions include:\n",
    "* sex: Has relatively low loadings across most components except for PC2 and PC4.\n",
    "* BPMeds: Moderate influence on PC5 and PC6, but low contributions overall.\n",
    "* prevalentStroke: Generally low loadings across all components.\n",
    "* heartRate: Some influence on PC4 and PC5, but lower contributions overall."
   ]
  },
  {
   "cell_type": "code",
   "execution_count": 20,
   "metadata": {},
   "outputs": [
    {
     "data": {
      "image/png": "[encoded data removed]",
      "text/plain": [
       "<Figure size 800x500 with 1 Axes>"
      ]
     },
     "metadata": {},
     "output_type": "display_data"
    }
   ],
   "source": [
    "import matplotlib.pyplot as plt\n",
    "\n",
    "# Plot the cumulative variance\n",
    "plt.figure(figsize=(8, 5))\n",
    "plt.plot(range(1, len(cumulative_variance) + 1), cumulative_variance, marker='o', linestyle='--')\n",
    "plt.xlabel('Number of Principal Components')\n",
    "plt.ylabel('Cumulative Explained Variance')\n",
    "plt.title('Cumulative Explained Variance by PCA Components')\n",
    "plt.grid(True)\n",
    "plt.savefig('cumulative_variance_plot.png')\n",
    "plt.show()\n"
   ]
  },
  {
   "cell_type": "code",
   "execution_count": 19,
   "metadata": {},
   "outputs": [
    {
     "data": {
      "text/plain": [
       "<Figure size 640x480 with 0 Axes>"
      ]
     },
     "metadata": {},
     "output_type": "display_data"
    }
   ],
   "source": [
    "plt.savefig('cumulative_variance_plot.png') "
   ]
  },
  {
   "cell_type": "code",
   "execution_count": null,
   "metadata": {},
   "outputs": [],
   "source": []
  }
 ],
 "metadata": {
  "kernelspec": {
   "display_name": "Python 3 (ipykernel)",
   "language": "python",
   "name": "python3"
  },
  "language_info": {
   "codemirror_mode": {
    "name": "ipython",
    "version": 3
   },
   "file_extension": ".py",
   "mimetype": "text/x-python",
   "name": "python",
   "nbconvert_exporter": "python",
   "pygments_lexer": "ipython3",
   "version": "3.11.5"
  }
 },
 "nbformat": 4,
 "nbformat_minor": 4
}
